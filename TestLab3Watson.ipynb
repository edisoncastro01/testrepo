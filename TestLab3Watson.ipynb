{
    "cells": [
        {
            "cell_type": "markdown",
            "metadata": {},
            "source": "## Test Data seet lab 2"
        },
        {
            "cell_type": "code",
            "execution_count": 1,
            "metadata": {},
            "outputs": [
                {
                    "data": {
                        "text/html": "<div>\n<style scoped>\n    .dataframe tbody tr th:only-of-type {\n        vertical-align: middle;\n    }\n\n    .dataframe tbody tr th {\n        vertical-align: top;\n    }\n\n    .dataframe thead th {\n        text-align: right;\n    }\n</style>\n<table border=\"1\" class=\"dataframe\">\n  <thead>\n    <tr style=\"text-align: right;\">\n      <th></th>\n      <th>Account ID</th>\n      <th>Ultimate Parent Account</th>\n      <th>Opportunity Name</th>\n      <th>Account Name</th>\n      <th>Account RPM ID</th>\n      <th>Type</th>\n      <th>Change Type</th>\n      <th>Downgrade Amount</th>\n      <th>Renewal Status</th>\n      <th>Opp Status</th>\n      <th>...</th>\n      <th>Change in Run Rate - NR Traces</th>\n      <th>Change in Run Rate - NR One</th>\n      <th>Change in Run Rate - NR Serverless</th>\n      <th>Change in Run Rate - NRU Services</th>\n      <th>Change in Run Rate - Premium Services</th>\n      <th>Change in Run Rate - ES Add-Ons</th>\n      <th>Change in Run Rate - ES Health Check</th>\n      <th>Unnamed: 38</th>\n      <th>Churn</th>\n      <th>Downgrade</th>\n    </tr>\n  </thead>\n  <tbody>\n    <tr>\n      <th>0</th>\n      <td>001f300001zUYZa</td>\n      <td>William Demant Holding A/S</td>\n      <td>DK-IS-Demant A/S-Browser</td>\n      <td>Demant A/S</td>\n      <td>2742400</td>\n      <td>New Business</td>\n      <td>NaN</td>\n      <td>-4000.00</td>\n      <td>NaN</td>\n      <td>NaN</td>\n      <td>...</td>\n      <td>NaN</td>\n      <td>NaN</td>\n      <td>NaN</td>\n      <td>NaN</td>\n      <td>NaN</td>\n      <td>NaN</td>\n      <td>NaN</td>\n      <td>NaN</td>\n      <td>0</td>\n      <td>1</td>\n    </tr>\n    <tr>\n      <th>1</th>\n      <td>0013300001lgTwX</td>\n      <td>BankFacil Creditas</td>\n      <td>Cr\u00e9ditas (BKF Solu\u00e7\u00f5es Financeiras Ltda) - 080...</td>\n      <td>Cr\u00e9ditas (BKF Solu\u00e7\u00f5es Financeiras Ltda)</td>\n      <td>735288</td>\n      <td>Existing Business</td>\n      <td>Upgrade</td>\n      <td>-84186.84</td>\n      <td>NaN</td>\n      <td>Won</td>\n      <td>...</td>\n      <td>29.04</td>\n      <td>NaN</td>\n      <td>43.56</td>\n      <td>NaN</td>\n      <td>NaN</td>\n      <td>NaN</td>\n      <td>NaN</td>\n      <td>NaN</td>\n      <td>1</td>\n      <td>1</td>\n    </tr>\n    <tr>\n      <th>2</th>\n      <td>001f300001yXfiE</td>\n      <td>Safarifone Inc</td>\n      <td>SAFARIFONE SARL - 01272020 - Deal - Self-serve...</td>\n      <td>Safarifone Inc</td>\n      <td>1448319</td>\n      <td>New Business</td>\n      <td>Deal</td>\n      <td>-10494.00</td>\n      <td>NaN</td>\n      <td>Won</td>\n      <td>...</td>\n      <td>NaN</td>\n      <td>NaN</td>\n      <td>NaN</td>\n      <td>NaN</td>\n      <td>NaN</td>\n      <td>NaN</td>\n      <td>NaN</td>\n      <td>NaN</td>\n      <td>0</td>\n      <td>1</td>\n    </tr>\n    <tr>\n      <th>3</th>\n      <td>0013300001p8Bw1</td>\n      <td>Digital Media Solutions, LLC</td>\n      <td>Digital Media Solutions - AWS - 02132020 - Can...</td>\n      <td>Digital Media Solutions - AWS</td>\n      <td>1503493</td>\n      <td>Existing Business</td>\n      <td>Cancel</td>\n      <td>69766.80</td>\n      <td>NaN</td>\n      <td>Won</td>\n      <td>...</td>\n      <td>NaN</td>\n      <td>NaN</td>\n      <td>NaN</td>\n      <td>NaN</td>\n      <td>NaN</td>\n      <td>NaN</td>\n      <td>NaN</td>\n      <td>NaN</td>\n      <td>0</td>\n      <td>0</td>\n    </tr>\n    <tr>\n      <th>4</th>\n      <td>0014000000mUTUn</td>\n      <td>LifeChurch.tv</td>\n      <td>LifeChurch IT - 07102020 - Upgrade - Touch - O...</td>\n      <td>LifeChurch IT</td>\n      <td>258670</td>\n      <td>Existing Business</td>\n      <td>Upgrade</td>\n      <td>-25800.00</td>\n      <td>NaN</td>\n      <td>Open  Won</td>\n      <td>...</td>\n      <td>NaN</td>\n      <td>NaN</td>\n      <td>NaN</td>\n      <td>NaN</td>\n      <td>NaN</td>\n      <td>NaN</td>\n      <td>NaN</td>\n      <td>NaN</td>\n      <td>1</td>\n      <td>1</td>\n    </tr>\n  </tbody>\n</table>\n<p>5 rows \u00d7 41 columns</p>\n</div>",
                        "text/plain": "        Account ID       Ultimate Parent Account  \\\n0  001f300001zUYZa    William Demant Holding A/S   \n1  0013300001lgTwX            BankFacil Creditas   \n2  001f300001yXfiE                Safarifone Inc   \n3  0013300001p8Bw1  Digital Media Solutions, LLC   \n4  0014000000mUTUn                 LifeChurch.tv   \n\n                                    Opportunity Name  \\\n0                           DK-IS-Demant A/S-Browser   \n1  Cr\u00e9ditas (BKF Solu\u00e7\u00f5es Financeiras Ltda) - 080...   \n2  SAFARIFONE SARL - 01272020 - Deal - Self-serve...   \n3  Digital Media Solutions - AWS - 02132020 - Can...   \n4  LifeChurch IT - 07102020 - Upgrade - Touch - O...   \n\n                               Account Name Account RPM ID               Type  \\\n0                                Demant A/S        2742400       New Business   \n1  Cr\u00e9ditas (BKF Solu\u00e7\u00f5es Financeiras Ltda)         735288  Existing Business   \n2                            Safarifone Inc        1448319       New Business   \n3             Digital Media Solutions - AWS        1503493  Existing Business   \n4                             LifeChurch IT         258670  Existing Business   \n\n  Change Type  Downgrade Amount Renewal Status  Opp Status  ...  \\\n0         NaN          -4000.00            NaN         NaN  ...   \n1     Upgrade         -84186.84            NaN         Won  ...   \n2        Deal         -10494.00            NaN         Won  ...   \n3      Cancel          69766.80            NaN         Won  ...   \n4     Upgrade         -25800.00            NaN   Open  Won  ...   \n\n  Change in Run Rate - NR Traces Change in Run Rate - NR One  \\\n0                            NaN                         NaN   \n1                          29.04                         NaN   \n2                            NaN                         NaN   \n3                            NaN                         NaN   \n4                            NaN                         NaN   \n\n  Change in Run Rate - NR Serverless  Change in Run Rate - NRU Services  \\\n0                                NaN                                NaN   \n1                              43.56                                NaN   \n2                                NaN                                NaN   \n3                                NaN                                NaN   \n4                                NaN                                NaN   \n\n   Change in Run Rate - Premium Services Change in Run Rate - ES Add-Ons  \\\n0                                    NaN                             NaN   \n1                                    NaN                             NaN   \n2                                    NaN                             NaN   \n3                                    NaN                             NaN   \n4                                    NaN                             NaN   \n\n  Change in Run Rate - ES Health Check Unnamed: 38 Churn Downgrade  \n0                                  NaN         NaN     0         1  \n1                                  NaN         NaN     1         1  \n2                                  NaN         NaN     0         1  \n3                                  NaN         NaN     0         0  \n4                                  NaN         NaN     1         1  \n\n[5 rows x 41 columns]"
                    },
                    "execution_count": 1,
                    "metadata": {},
                    "output_type": "execute_result"
                }
            ],
            "source": "# The code was removed by Watson Studio for sharing."
        },
        {
            "cell_type": "code",
            "execution_count": null,
            "metadata": {},
            "outputs": [],
            "source": ""
        }
    ],
    "metadata": {
        "kernelspec": {
            "display_name": "Python 3.6",
            "language": "python",
            "name": "python3"
        },
        "language_info": {
            "codemirror_mode": {
                "name": "ipython",
                "version": 3
            },
            "file_extension": ".py",
            "mimetype": "text/x-python",
            "name": "python",
            "nbconvert_exporter": "python",
            "pygments_lexer": "ipython3",
            "version": "3.6.9"
        }
    },
    "nbformat": 4,
    "nbformat_minor": 1
}